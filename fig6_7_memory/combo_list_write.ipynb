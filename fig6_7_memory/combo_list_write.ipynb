{
 "cells": [
  {
   "cell_type": "code",
   "execution_count": 1,
   "metadata": {},
   "outputs": [],
   "source": [
    "import pandas as pd\n",
    "import itertools\n",
    "import argparse\n",
    "from scipy import stats\n",
    "import sys\n",
    "import os"
   ]
  },
  {
   "cell_type": "code",
   "execution_count": 6,
   "metadata": {},
   "outputs": [],
   "source": [
    "# write list of cell combinations for parallelization\n",
    "\n",
    "def write_list(fn, out_fn):\n",
    "    \n",
    "    count_mat = pd.read_csv(fn, index_col = 0)\n",
    "    \n",
    "    cells = list(count_mat)\n",
    "    \n",
    "    cell_combos = list(itertools.combinations(cells, 2))\n",
    "    \n",
    "    with open(out_fn, \"w\") as out_file:\n",
    "        \n",
    "        for cell_combo in cell_combos:\n",
    "            \n",
    "            #print(cell_combo)\n",
    "            out_file.write(str(cell_combo) + \"\\n\")\n",
    "        \n",
    "        out_file.close()\n",
    "        \n",
    "mcpf1_1022 = write_list(\"/oak/stanford/scg/lab_congle/PRT/dzy_mem_seq/csv/20201014_filter_df.csv\", \n",
    "                       \"/oak/stanford/scg/lab_congle/PRT/dzy_mem_seq/csv/20201022_combo_lst.csv\")\n",
    "    \n"
   ]
  },
  {
   "cell_type": "code",
   "execution_count": null,
   "metadata": {},
   "outputs": [],
   "source": []
  }
 ],
 "metadata": {
  "kernelspec": {
   "display_name": "Python 3",
   "language": "python",
   "name": "python3"
  },
  "language_info": {
   "codemirror_mode": {
    "name": "ipython",
    "version": 3
   },
   "file_extension": ".py",
   "mimetype": "text/x-python",
   "name": "python",
   "nbconvert_exporter": "python",
   "pygments_lexer": "ipython3",
   "version": "3.6.8"
  }
 },
 "nbformat": 4,
 "nbformat_minor": 2
}
