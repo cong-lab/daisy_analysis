{
 "cells": [
  {
   "cell_type": "code",
   "execution_count": 1,
   "metadata": {},
   "outputs": [],
   "source": [
    "# compare peaks from two independent studies to identify overlaps\n",
    "\n",
    "import pandas as pd\n"
   ]
  },
  {
   "cell_type": "code",
   "execution_count": 11,
   "metadata": {},
   "outputs": [],
   "source": [
    "def read_bed(bed_1, bed_2):\n",
    "    \n",
    "    in_1 = pd.read_csv(bed_1, sep = \"\\t\")\n",
    "    in_2 = pd.read_csv(bed_2, sep = \"\\t\")\n",
    "    \n",
    "    cat_df = pd.DataFrame(index = range(0,1000000))\n",
    "    \n",
    "    i = 0\n",
    "    \n",
    "    for index, row in in_1.iterrows():\n",
    "        \n",
    "        chrom = row[\"chr\"]\n",
    "        start = int(row[\"start\"])\n",
    "        end = int(row[\"end\"])\n",
    "        \n",
    "        sub_2 = in_2[in_2[\"chr\"] == chrom]\n",
    "        \n",
    "        for index, row in sub_2.iterrows():\n",
    "            \n",
    "            i += 1\n",
    "            \n",
    "            start_2 = int(row[\"start\"])\n",
    "            end_2 = int(row[\"end\"])\n",
    "            \n",
    "            if start_2 >= start and start_2 <= end and end_2 > end: # overlap type 1\n",
    "                \n",
    "                cat_df.loc[i, \"chr\"] = chrom\n",
    "                cat_df.loc[i, \"start\"] = int(start)\n",
    "                cat_df.loc[i, \"end\"] = int(end_2)\n",
    "                \n",
    "            elif start_2 >= start and start_2 <= end and end_2 < end: # overlap type 1\n",
    "                \n",
    "                cat_df.loc[i, \"chr\"] = chrom\n",
    "                cat_df.loc[i, \"start\"] = int(start)\n",
    "                cat_df.loc[i, \"end\"] = int(end)\n",
    "                \n",
    "            elif start >= start_2 and start <= end_2 and end_2 > end: # overlap type 1\n",
    "                \n",
    "                cat_df.loc[i, \"chr\"] = chrom\n",
    "                cat_df.loc[i, \"start\"] = int(start_2)\n",
    "                cat_df.loc[i, \"end\"] = int(end_2)\n",
    "                \n",
    "            elif start >= start_2 and start <= end_2 and end_2 < end: # overlap type 1\n",
    "                \n",
    "                cat_df.loc[i, \"chr\"] = chrom\n",
    "                cat_df.loc[i, \"start\"] = int(start_2)\n",
    "                cat_df.loc[i, \"end\"] = int(end)\n",
    "                \n",
    "    cat_df_int = cat_df[['start', 'end']].dropna().astype(int)\n",
    "    \n",
    "    cat_df_int[\"chr\"] = cat_df[\"chr\"]\n",
    "    \n",
    "    #cat_df_int = cat_df.dropna().astype(int)\n",
    "    \n",
    "    cat_df_int.dropna().to_csv(\"/labs/congle/PRT/a375_mem_atac/subset_beds/20210710_ctrl_bed_combo.bed\", index = False, sep = \"\\t\")\n",
    "    \n",
    "#test_cat_mem = read_bed(\"/oak/stanford/scg/lab_congle/PRT/a375_mem_atac/subset_beds/202107_mem_peaks_cshl.bed\", \n",
    "#                       \"/oak/stanford/scg/lab_congle/PRT/a375_mem_atac/subset_beds/202107_mem_gene_sub.bed\")\n",
    "\n",
    "test_cat_ctrl = read_bed(\"/oak/stanford/scg/lab_congle/PRT/a375_mem_atac/subset_beds/202107_ctrl_peaks_cshl.bed\", \n",
    "                       \"/oak/stanford/scg/lab_congle/PRT/a375_mem_atac/subset_beds/202107_ctrl_gene_sub.bed\")\n",
    "                \n",
    "                "
   ]
  },
  {
   "cell_type": "code",
   "execution_count": null,
   "metadata": {},
   "outputs": [],
   "source": []
  }
 ],
 "metadata": {
  "kernelspec": {
   "display_name": "Python 3",
   "language": "python",
   "name": "python3"
  },
  "language_info": {
   "codemirror_mode": {
    "name": "ipython",
    "version": 3
   },
   "file_extension": ".py",
   "mimetype": "text/x-python",
   "name": "python",
   "nbconvert_exporter": "python",
   "pygments_lexer": "ipython3",
   "version": "3.7.4"
  }
 },
 "nbformat": 4,
 "nbformat_minor": 2
}
